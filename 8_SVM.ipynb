{
  "nbformat": 4,
  "nbformat_minor": 0,
  "metadata": {
    "colab": {
      "provenance": [],
      "authorship_tag": "ABX9TyMdXWD1drcqLdtEfi1zb2Pe",
      "include_colab_link": true
    },
    "kernelspec": {
      "name": "python3",
      "display_name": "Python 3"
    },
    "language_info": {
      "name": "python"
    }
  },
  "cells": [
    {
      "cell_type": "markdown",
      "metadata": {
        "id": "view-in-github",
        "colab_type": "text"
      },
      "source": [
        "<a href=\"https://colab.research.google.com/github/Amos0707/ML/blob/main/8_SVM.ipynb\" target=\"_parent\"><img src=\"https://colab.research.google.com/assets/colab-badge.svg\" alt=\"Open In Colab\"/></a>"
      ]
    },
    {
      "cell_type": "code",
      "execution_count": null,
      "metadata": {
        "id": "bUz9yLZ-Twlv"
      },
      "outputs": [],
      "source": [
        "#import the libraries\n",
        "import pandas as pd\n",
        "import numpy as np\n",
        "import matplotlib.pyplot as plt\n",
        "import seaborn as sns\n",
        "import warnings\n",
        "warnings.filterwarnings('ignore')\n"
      ]
    },
    {
      "cell_type": "code",
      "source": [
        "#Load the dataset\n",
        "ds = pd.read_csv('WineDataset.csv')"
      ],
      "metadata": {
        "id": "IJua5Va7W8w5"
      },
      "execution_count": null,
      "outputs": []
    },
    {
      "cell_type": "code",
      "source": [
        "# data claening\n",
        "ds.head()"
      ],
      "metadata": {
        "colab": {
          "base_uri": "https://localhost:8080/",
          "height": 608
        },
        "id": "XDHAcL5lXeJj",
        "outputId": "a842e25e-441d-49cc-a4ef-69c5df2484e8"
      },
      "execution_count": null,
      "outputs": [
        {
          "output_type": "execute_result",
          "data": {
            "text/plain": [
              "                                               Title  \\\n",
              "0                                 The Guv'nor, Spain   \n",
              "1  Bread & Butter 'Winemaker's Selection' Chardon...   \n",
              "2       Oyster Bay Sauvignon Blanc 2022, Marlborough   \n",
              "3                   Louis Latour Mâcon-Lugny 2021/22   \n",
              "4  Bread & Butter 'Winemaker's Selection' Pinot N...   \n",
              "\n",
              "                                         Description              Price  \\\n",
              "0  We asked some of our most prized winemakers wo...   £9.99 per bottle   \n",
              "1  This really does what it says on the tin. It’s...  £15.99 per bottle   \n",
              "2  Oyster Bay has been an award-winning gold-stan...  £12.49 per bottle   \n",
              "3  We’ve sold this wine for thirty years – and fo...  £17.99 per bottle   \n",
              "4  Bread & Butter is that thing that you can coun...  £15.99 per bottle   \n",
              "\n",
              "  Capacity            Grape Secondary Grape Varieties       Closure  \\\n",
              "0     75CL      Tempranillo                       NaN  Natural Cork   \n",
              "1     75CL       Chardonnay                       NaN  Natural Cork   \n",
              "2     75CL  Sauvignon Blanc                       NaN      Screwcap   \n",
              "3     75CL       Chardonnay                       NaN  Natural Cork   \n",
              "4     75CL       Pinot Noir                       NaN  Natural Cork   \n",
              "\n",
              "       Country  Unit                                    Characteristics  \\\n",
              "0        Spain  10.5                  Vanilla, Blackberry, Blackcurrant   \n",
              "1          USA  10.1  Vanilla, Almond, Coconut, Green Apple, Peach, ...   \n",
              "2  New Zealand   9.8  Tropical Fruit, Gooseberry, Grapefruit, Grass,...   \n",
              "3       France  10.1                      Peach, Apricot, Floral, Lemon   \n",
              "4          USA  10.1   Smoke, Black Cherry, Cedar, Raspberry, Red Fruit   \n",
              "\n",
              "  Per bottle / case / each   Type         ABV       Region            Style  \\\n",
              "0               per bottle    Red  ABV 14.00%          NaN     Rich & Juicy   \n",
              "1               per bottle  White  ABV 13.50%   California    Rich & Toasty   \n",
              "2               per bottle  White  ABV 13.00%  Marlborough    Crisp & Zesty   \n",
              "3               per bottle  White  ABV 13.50%     Burgundy   Ripe & Rounded   \n",
              "4               per bottle    Red  ABV 13.50%   California  Smooth & Mellow   \n",
              "\n",
              "  Vintage  Appellation  \n",
              "0      NV          NaN  \n",
              "1    2021  Napa Valley  \n",
              "2    2022          NaN  \n",
              "3    2022        Macon  \n",
              "4    2021  Napa Valley  "
            ],
            "text/html": [
              "\n",
              "  <div id=\"df-086123e6-e175-4351-973c-3d9e30bbd905\" class=\"colab-df-container\">\n",
              "    <div>\n",
              "<style scoped>\n",
              "    .dataframe tbody tr th:only-of-type {\n",
              "        vertical-align: middle;\n",
              "    }\n",
              "\n",
              "    .dataframe tbody tr th {\n",
              "        vertical-align: top;\n",
              "    }\n",
              "\n",
              "    .dataframe thead th {\n",
              "        text-align: right;\n",
              "    }\n",
              "</style>\n",
              "<table border=\"1\" class=\"dataframe\">\n",
              "  <thead>\n",
              "    <tr style=\"text-align: right;\">\n",
              "      <th></th>\n",
              "      <th>Title</th>\n",
              "      <th>Description</th>\n",
              "      <th>Price</th>\n",
              "      <th>Capacity</th>\n",
              "      <th>Grape</th>\n",
              "      <th>Secondary Grape Varieties</th>\n",
              "      <th>Closure</th>\n",
              "      <th>Country</th>\n",
              "      <th>Unit</th>\n",
              "      <th>Characteristics</th>\n",
              "      <th>Per bottle / case / each</th>\n",
              "      <th>Type</th>\n",
              "      <th>ABV</th>\n",
              "      <th>Region</th>\n",
              "      <th>Style</th>\n",
              "      <th>Vintage</th>\n",
              "      <th>Appellation</th>\n",
              "    </tr>\n",
              "  </thead>\n",
              "  <tbody>\n",
              "    <tr>\n",
              "      <th>0</th>\n",
              "      <td>The Guv'nor, Spain</td>\n",
              "      <td>We asked some of our most prized winemakers wo...</td>\n",
              "      <td>£9.99 per bottle</td>\n",
              "      <td>75CL</td>\n",
              "      <td>Tempranillo</td>\n",
              "      <td>NaN</td>\n",
              "      <td>Natural Cork</td>\n",
              "      <td>Spain</td>\n",
              "      <td>10.5</td>\n",
              "      <td>Vanilla, Blackberry, Blackcurrant</td>\n",
              "      <td>per bottle</td>\n",
              "      <td>Red</td>\n",
              "      <td>ABV 14.00%</td>\n",
              "      <td>NaN</td>\n",
              "      <td>Rich &amp; Juicy</td>\n",
              "      <td>NV</td>\n",
              "      <td>NaN</td>\n",
              "    </tr>\n",
              "    <tr>\n",
              "      <th>1</th>\n",
              "      <td>Bread &amp; Butter 'Winemaker's Selection' Chardon...</td>\n",
              "      <td>This really does what it says on the tin. It’s...</td>\n",
              "      <td>£15.99 per bottle</td>\n",
              "      <td>75CL</td>\n",
              "      <td>Chardonnay</td>\n",
              "      <td>NaN</td>\n",
              "      <td>Natural Cork</td>\n",
              "      <td>USA</td>\n",
              "      <td>10.1</td>\n",
              "      <td>Vanilla, Almond, Coconut, Green Apple, Peach, ...</td>\n",
              "      <td>per bottle</td>\n",
              "      <td>White</td>\n",
              "      <td>ABV 13.50%</td>\n",
              "      <td>California</td>\n",
              "      <td>Rich &amp; Toasty</td>\n",
              "      <td>2021</td>\n",
              "      <td>Napa Valley</td>\n",
              "    </tr>\n",
              "    <tr>\n",
              "      <th>2</th>\n",
              "      <td>Oyster Bay Sauvignon Blanc 2022, Marlborough</td>\n",
              "      <td>Oyster Bay has been an award-winning gold-stan...</td>\n",
              "      <td>£12.49 per bottle</td>\n",
              "      <td>75CL</td>\n",
              "      <td>Sauvignon Blanc</td>\n",
              "      <td>NaN</td>\n",
              "      <td>Screwcap</td>\n",
              "      <td>New Zealand</td>\n",
              "      <td>9.8</td>\n",
              "      <td>Tropical Fruit, Gooseberry, Grapefruit, Grass,...</td>\n",
              "      <td>per bottle</td>\n",
              "      <td>White</td>\n",
              "      <td>ABV 13.00%</td>\n",
              "      <td>Marlborough</td>\n",
              "      <td>Crisp &amp; Zesty</td>\n",
              "      <td>2022</td>\n",
              "      <td>NaN</td>\n",
              "    </tr>\n",
              "    <tr>\n",
              "      <th>3</th>\n",
              "      <td>Louis Latour Mâcon-Lugny 2021/22</td>\n",
              "      <td>We’ve sold this wine for thirty years – and fo...</td>\n",
              "      <td>£17.99 per bottle</td>\n",
              "      <td>75CL</td>\n",
              "      <td>Chardonnay</td>\n",
              "      <td>NaN</td>\n",
              "      <td>Natural Cork</td>\n",
              "      <td>France</td>\n",
              "      <td>10.1</td>\n",
              "      <td>Peach, Apricot, Floral, Lemon</td>\n",
              "      <td>per bottle</td>\n",
              "      <td>White</td>\n",
              "      <td>ABV 13.50%</td>\n",
              "      <td>Burgundy</td>\n",
              "      <td>Ripe &amp; Rounded</td>\n",
              "      <td>2022</td>\n",
              "      <td>Macon</td>\n",
              "    </tr>\n",
              "    <tr>\n",
              "      <th>4</th>\n",
              "      <td>Bread &amp; Butter 'Winemaker's Selection' Pinot N...</td>\n",
              "      <td>Bread &amp; Butter is that thing that you can coun...</td>\n",
              "      <td>£15.99 per bottle</td>\n",
              "      <td>75CL</td>\n",
              "      <td>Pinot Noir</td>\n",
              "      <td>NaN</td>\n",
              "      <td>Natural Cork</td>\n",
              "      <td>USA</td>\n",
              "      <td>10.1</td>\n",
              "      <td>Smoke, Black Cherry, Cedar, Raspberry, Red Fruit</td>\n",
              "      <td>per bottle</td>\n",
              "      <td>Red</td>\n",
              "      <td>ABV 13.50%</td>\n",
              "      <td>California</td>\n",
              "      <td>Smooth &amp; Mellow</td>\n",
              "      <td>2021</td>\n",
              "      <td>Napa Valley</td>\n",
              "    </tr>\n",
              "  </tbody>\n",
              "</table>\n",
              "</div>\n",
              "    <div class=\"colab-df-buttons\">\n",
              "\n",
              "  <div class=\"colab-df-container\">\n",
              "    <button class=\"colab-df-convert\" onclick=\"convertToInteractive('df-086123e6-e175-4351-973c-3d9e30bbd905')\"\n",
              "            title=\"Convert this dataframe to an interactive table.\"\n",
              "            style=\"display:none;\">\n",
              "\n",
              "  <svg xmlns=\"http://www.w3.org/2000/svg\" height=\"24px\" viewBox=\"0 -960 960 960\">\n",
              "    <path d=\"M120-120v-720h720v720H120Zm60-500h600v-160H180v160Zm220 220h160v-160H400v160Zm0 220h160v-160H400v160ZM180-400h160v-160H180v160Zm440 0h160v-160H620v160ZM180-180h160v-160H180v160Zm440 0h160v-160H620v160Z\"/>\n",
              "  </svg>\n",
              "    </button>\n",
              "\n",
              "  <style>\n",
              "    .colab-df-container {\n",
              "      display:flex;\n",
              "      gap: 12px;\n",
              "    }\n",
              "\n",
              "    .colab-df-convert {\n",
              "      background-color: #E8F0FE;\n",
              "      border: none;\n",
              "      border-radius: 50%;\n",
              "      cursor: pointer;\n",
              "      display: none;\n",
              "      fill: #1967D2;\n",
              "      height: 32px;\n",
              "      padding: 0 0 0 0;\n",
              "      width: 32px;\n",
              "    }\n",
              "\n",
              "    .colab-df-convert:hover {\n",
              "      background-color: #E2EBFA;\n",
              "      box-shadow: 0px 1px 2px rgba(60, 64, 67, 0.3), 0px 1px 3px 1px rgba(60, 64, 67, 0.15);\n",
              "      fill: #174EA6;\n",
              "    }\n",
              "\n",
              "    .colab-df-buttons div {\n",
              "      margin-bottom: 4px;\n",
              "    }\n",
              "\n",
              "    [theme=dark] .colab-df-convert {\n",
              "      background-color: #3B4455;\n",
              "      fill: #D2E3FC;\n",
              "    }\n",
              "\n",
              "    [theme=dark] .colab-df-convert:hover {\n",
              "      background-color: #434B5C;\n",
              "      box-shadow: 0px 1px 3px 1px rgba(0, 0, 0, 0.15);\n",
              "      filter: drop-shadow(0px 1px 2px rgba(0, 0, 0, 0.3));\n",
              "      fill: #FFFFFF;\n",
              "    }\n",
              "  </style>\n",
              "\n",
              "    <script>\n",
              "      const buttonEl =\n",
              "        document.querySelector('#df-086123e6-e175-4351-973c-3d9e30bbd905 button.colab-df-convert');\n",
              "      buttonEl.style.display =\n",
              "        google.colab.kernel.accessAllowed ? 'block' : 'none';\n",
              "\n",
              "      async function convertToInteractive(key) {\n",
              "        const element = document.querySelector('#df-086123e6-e175-4351-973c-3d9e30bbd905');\n",
              "        const dataTable =\n",
              "          await google.colab.kernel.invokeFunction('convertToInteractive',\n",
              "                                                    [key], {});\n",
              "        if (!dataTable) return;\n",
              "\n",
              "        const docLinkHtml = 'Like what you see? Visit the ' +\n",
              "          '<a target=\"_blank\" href=https://colab.research.google.com/notebooks/data_table.ipynb>data table notebook</a>'\n",
              "          + ' to learn more about interactive tables.';\n",
              "        element.innerHTML = '';\n",
              "        dataTable['output_type'] = 'display_data';\n",
              "        await google.colab.output.renderOutput(dataTable, element);\n",
              "        const docLink = document.createElement('div');\n",
              "        docLink.innerHTML = docLinkHtml;\n",
              "        element.appendChild(docLink);\n",
              "      }\n",
              "    </script>\n",
              "  </div>\n",
              "\n",
              "\n",
              "<div id=\"df-c9763ce1-1481-419b-b792-de7a88235333\">\n",
              "  <button class=\"colab-df-quickchart\" onclick=\"quickchart('df-c9763ce1-1481-419b-b792-de7a88235333')\"\n",
              "            title=\"Suggest charts\"\n",
              "            style=\"display:none;\">\n",
              "\n",
              "<svg xmlns=\"http://www.w3.org/2000/svg\" height=\"24px\"viewBox=\"0 0 24 24\"\n",
              "     width=\"24px\">\n",
              "    <g>\n",
              "        <path d=\"M19 3H5c-1.1 0-2 .9-2 2v14c0 1.1.9 2 2 2h14c1.1 0 2-.9 2-2V5c0-1.1-.9-2-2-2zM9 17H7v-7h2v7zm4 0h-2V7h2v10zm4 0h-2v-4h2v4z\"/>\n",
              "    </g>\n",
              "</svg>\n",
              "  </button>\n",
              "\n",
              "<style>\n",
              "  .colab-df-quickchart {\n",
              "      --bg-color: #E8F0FE;\n",
              "      --fill-color: #1967D2;\n",
              "      --hover-bg-color: #E2EBFA;\n",
              "      --hover-fill-color: #174EA6;\n",
              "      --disabled-fill-color: #AAA;\n",
              "      --disabled-bg-color: #DDD;\n",
              "  }\n",
              "\n",
              "  [theme=dark] .colab-df-quickchart {\n",
              "      --bg-color: #3B4455;\n",
              "      --fill-color: #D2E3FC;\n",
              "      --hover-bg-color: #434B5C;\n",
              "      --hover-fill-color: #FFFFFF;\n",
              "      --disabled-bg-color: #3B4455;\n",
              "      --disabled-fill-color: #666;\n",
              "  }\n",
              "\n",
              "  .colab-df-quickchart {\n",
              "    background-color: var(--bg-color);\n",
              "    border: none;\n",
              "    border-radius: 50%;\n",
              "    cursor: pointer;\n",
              "    display: none;\n",
              "    fill: var(--fill-color);\n",
              "    height: 32px;\n",
              "    padding: 0;\n",
              "    width: 32px;\n",
              "  }\n",
              "\n",
              "  .colab-df-quickchart:hover {\n",
              "    background-color: var(--hover-bg-color);\n",
              "    box-shadow: 0 1px 2px rgba(60, 64, 67, 0.3), 0 1px 3px 1px rgba(60, 64, 67, 0.15);\n",
              "    fill: var(--button-hover-fill-color);\n",
              "  }\n",
              "\n",
              "  .colab-df-quickchart-complete:disabled,\n",
              "  .colab-df-quickchart-complete:disabled:hover {\n",
              "    background-color: var(--disabled-bg-color);\n",
              "    fill: var(--disabled-fill-color);\n",
              "    box-shadow: none;\n",
              "  }\n",
              "\n",
              "  .colab-df-spinner {\n",
              "    border: 2px solid var(--fill-color);\n",
              "    border-color: transparent;\n",
              "    border-bottom-color: var(--fill-color);\n",
              "    animation:\n",
              "      spin 1s steps(1) infinite;\n",
              "  }\n",
              "\n",
              "  @keyframes spin {\n",
              "    0% {\n",
              "      border-color: transparent;\n",
              "      border-bottom-color: var(--fill-color);\n",
              "      border-left-color: var(--fill-color);\n",
              "    }\n",
              "    20% {\n",
              "      border-color: transparent;\n",
              "      border-left-color: var(--fill-color);\n",
              "      border-top-color: var(--fill-color);\n",
              "    }\n",
              "    30% {\n",
              "      border-color: transparent;\n",
              "      border-left-color: var(--fill-color);\n",
              "      border-top-color: var(--fill-color);\n",
              "      border-right-color: var(--fill-color);\n",
              "    }\n",
              "    40% {\n",
              "      border-color: transparent;\n",
              "      border-right-color: var(--fill-color);\n",
              "      border-top-color: var(--fill-color);\n",
              "    }\n",
              "    60% {\n",
              "      border-color: transparent;\n",
              "      border-right-color: var(--fill-color);\n",
              "    }\n",
              "    80% {\n",
              "      border-color: transparent;\n",
              "      border-right-color: var(--fill-color);\n",
              "      border-bottom-color: var(--fill-color);\n",
              "    }\n",
              "    90% {\n",
              "      border-color: transparent;\n",
              "      border-bottom-color: var(--fill-color);\n",
              "    }\n",
              "  }\n",
              "</style>\n",
              "\n",
              "  <script>\n",
              "    async function quickchart(key) {\n",
              "      const quickchartButtonEl =\n",
              "        document.querySelector('#' + key + ' button');\n",
              "      quickchartButtonEl.disabled = true;  // To prevent multiple clicks.\n",
              "      quickchartButtonEl.classList.add('colab-df-spinner');\n",
              "      try {\n",
              "        const charts = await google.colab.kernel.invokeFunction(\n",
              "            'suggestCharts', [key], {});\n",
              "      } catch (error) {\n",
              "        console.error('Error during call to suggestCharts:', error);\n",
              "      }\n",
              "      quickchartButtonEl.classList.remove('colab-df-spinner');\n",
              "      quickchartButtonEl.classList.add('colab-df-quickchart-complete');\n",
              "    }\n",
              "    (() => {\n",
              "      let quickchartButtonEl =\n",
              "        document.querySelector('#df-c9763ce1-1481-419b-b792-de7a88235333 button');\n",
              "      quickchartButtonEl.style.display =\n",
              "        google.colab.kernel.accessAllowed ? 'block' : 'none';\n",
              "    })();\n",
              "  </script>\n",
              "</div>\n",
              "\n",
              "    </div>\n",
              "  </div>\n"
            ],
            "application/vnd.google.colaboratory.intrinsic+json": {
              "type": "dataframe",
              "variable_name": "ds",
              "summary": "{\n  \"name\": \"ds\",\n  \"rows\": 1290,\n  \"fields\": [\n    {\n      \"column\": \"Title\",\n      \"properties\": {\n        \"dtype\": \"string\",\n        \"num_unique_values\": 1289,\n        \"samples\": [\n          \"LB7 Red 2018/20 Magnum, Lisbon\",\n          \"Penfolds Bin A Chardonnay 2019\",\n          \"Vi\\u00f1alba 'Reserve' Malbec-Touriga Nacional 2020/21, Mendoza\"\n        ],\n        \"semantic_type\": \"\",\n        \"description\": \"\"\n      }\n    },\n    {\n      \"column\": \"Description\",\n      \"properties\": {\n        \"dtype\": \"string\",\n        \"num_unique_values\": 1283,\n        \"samples\": [\n          \"This is a special edition that celebrates the year when Taylor's discovered fantastic new Douro vineyards. It's made from specially selected ports from the house's extensive stocks and is exceptionally rich. It has aromas of plum, fig and sultana and flavours of fruit cake. Excellent with a cheese board.\",\n          \"Mornington Peninsula is a sub-region of Victoria which, in recent years, has been identified as arguably the best area in Australia for cultivating the classic Burgundian varieties. The new 'Down the Hill' Estate Pinot Noir from Ten Minutes by Tractor is taken from warmer vineyards and matured for 11 months in French oak. The result is an approachable style, flush with red fruit and cranberry notes with dry tannins.\",\n          \"Ernst Loosen's family have made fantastic Riesling on the Mosel slopes for over 200 years. But to get the best from Pinot Noir, he headed to Pfalz. Pfalz Pinot Noir has quickly become one of Germany's flagship wine styles - and this really shows why. It has bright notes of red fruit, balancing acidity and smooth tannins. Excellent with roast chicken.\"\n        ],\n        \"semantic_type\": \"\",\n        \"description\": \"\"\n      }\n    },\n    {\n      \"column\": \"Price\",\n      \"properties\": {\n        \"dtype\": \"category\",\n        \"num_unique_values\": 128,\n        \"samples\": [\n          \"\\u00a374.99 per bottle\",\n          \"\\u00a369.99 per bottle\",\n          \"\\u00a329.99 per bottle\"\n        ],\n        \"semantic_type\": \"\",\n        \"description\": \"\"\n      }\n    },\n    {\n      \"column\": \"Capacity\",\n      \"properties\": {\n        \"dtype\": \"category\",\n        \"num_unique_values\": 13,\n        \"samples\": [\n          \"5LITRE\",\n          \"150CL\",\n          \"75CL\"\n        ],\n        \"semantic_type\": \"\",\n        \"description\": \"\"\n      }\n    },\n    {\n      \"column\": \"Grape\",\n      \"properties\": {\n        \"dtype\": \"category\",\n        \"num_unique_values\": 113,\n        \"samples\": [\n          \"Viura\",\n          \"Glera\",\n          \"Primitivo\"\n        ],\n        \"semantic_type\": \"\",\n        \"description\": \"\"\n      }\n    },\n    {\n      \"column\": \"Secondary Grape Varieties\",\n      \"properties\": {\n        \"dtype\": \"category\",\n        \"num_unique_values\": 198,\n        \"samples\": [\n          \"S\\u00e9millon\",\n          \"Tinta Barroca, Tinta Cao, Tinta Roriz, Touriga Franca\",\n          \"Tempranillo, Bobal\"\n        ],\n        \"semantic_type\": \"\",\n        \"description\": \"\"\n      }\n    },\n    {\n      \"column\": \"Closure\",\n      \"properties\": {\n        \"dtype\": \"category\",\n        \"num_unique_values\": 4,\n        \"samples\": [\n          \"Screwcap\",\n          \"Vinolok\",\n          \"Natural Cork\"\n        ],\n        \"semantic_type\": \"\",\n        \"description\": \"\"\n      }\n    },\n    {\n      \"column\": \"Country\",\n      \"properties\": {\n        \"dtype\": \"category\",\n        \"num_unique_values\": 25,\n        \"samples\": [\n          \"Australia\",\n          \"Serbia\",\n          \"Spain\"\n        ],\n        \"semantic_type\": \"\",\n        \"description\": \"\"\n      }\n    },\n    {\n      \"column\": \"Unit\",\n      \"properties\": {\n        \"dtype\": \"number\",\n        \"std\": 2.3188496386279907,\n        \"min\": 0.0,\n        \"max\": 39.0,\n        \"num_unique_values\": 55,\n        \"samples\": [\n          12.0,\n          28.0,\n          5.3\n        ],\n        \"semantic_type\": \"\",\n        \"description\": \"\"\n      }\n    },\n    {\n      \"column\": \"Characteristics\",\n      \"properties\": {\n        \"dtype\": \"string\",\n        \"num_unique_values\": 888,\n        \"samples\": [\n          \"Vanilla, Blackcurrant, Earth, Leather, Smoke\",\n          \"Black Pepper, Blackberry, Blackcurrant, Blueberry, Jammy, Spice\",\n          \"Violet, Black Fruit, Red Fruit, Ripe Fruit, Vanilla\"\n        ],\n        \"semantic_type\": \"\",\n        \"description\": \"\"\n      }\n    },\n    {\n      \"column\": \"Per bottle / case / each\",\n      \"properties\": {\n        \"dtype\": \"category\",\n        \"num_unique_values\": 3,\n        \"samples\": [\n          \"per bottle\",\n          \"per case\",\n          \"each\"\n        ],\n        \"semantic_type\": \"\",\n        \"description\": \"\"\n      }\n    },\n    {\n      \"column\": \"Type\",\n      \"properties\": {\n        \"dtype\": \"category\",\n        \"num_unique_values\": 7,\n        \"samples\": [\n          \"Red\",\n          \"White\",\n          \"Orange\"\n        ],\n        \"semantic_type\": \"\",\n        \"description\": \"\"\n      }\n    },\n    {\n      \"column\": \"ABV\",\n      \"properties\": {\n        \"dtype\": \"category\",\n        \"num_unique_values\": 33,\n        \"samples\": [\n          \"ABV 19.00%\",\n          \"ABV 8.00%\",\n          \"ABV 17.00%\"\n        ],\n        \"semantic_type\": \"\",\n        \"description\": \"\"\n      }\n    },\n    {\n      \"column\": \"Region\",\n      \"properties\": {\n        \"dtype\": \"category\",\n        \"num_unique_values\": 94,\n        \"samples\": [\n          \"Aconcagua\",\n          \"Constantia\",\n          \"Aragon\"\n        ],\n        \"semantic_type\": \"\",\n        \"description\": \"\"\n      }\n    },\n    {\n      \"column\": \"Style\",\n      \"properties\": {\n        \"dtype\": \"category\",\n        \"num_unique_values\": 16,\n        \"samples\": [\n          \"Rich & Juicy\",\n          \"Rich & Toasty\",\n          \"Light & Refreshing\"\n        ],\n        \"semantic_type\": \"\",\n        \"description\": \"\"\n      }\n    },\n    {\n      \"column\": \"Vintage\",\n      \"properties\": {\n        \"dtype\": \"category\",\n        \"num_unique_values\": 30,\n        \"samples\": [\n          \"2002\",\n          \"2005\",\n          \"2011\"\n        ],\n        \"semantic_type\": \"\",\n        \"description\": \"\"\n      }\n    },\n    {\n      \"column\": \"Appellation\",\n      \"properties\": {\n        \"dtype\": \"category\",\n        \"num_unique_values\": 179,\n        \"samples\": [\n          \"Carinena\",\n          \"Sancerre\",\n          \"Beqaa Valley\"\n        ],\n        \"semantic_type\": \"\",\n        \"description\": \"\"\n      }\n    }\n  ]\n}"
            }
          },
          "metadata": {},
          "execution_count": 6
        }
      ]
    },
    {
      "cell_type": "code",
      "source": [
        "ds.tail()"
      ],
      "metadata": {
        "colab": {
          "base_uri": "https://localhost:8080/",
          "height": 694
        },
        "id": "gi2gFKY-Xnl3",
        "outputId": "648bba29-15d0-45ed-e047-c15af1bc444c"
      },
      "execution_count": null,
      "outputs": [
        {
          "output_type": "execute_result",
          "data": {
            "text/plain": [
              "                                                  Title  \\\n",
              "1285    Vouvray Sec 'Expresion de Silex' 2020/21, Loire   \n",
              "1286        Waimea Estates Pinot Noir Rosé 2021, Nelson   \n",
              "1287      Wakefield 'Visionary' Cabernet Sauvignon 2010   \n",
              "1288  Yalumba 'The Menzies' Cabernet Sauvignon 2015/...   \n",
              "1289     Yalumba 'Virgilius' Viognier 2017, Eden Valley   \n",
              "\n",
              "                                            Description              Price  \\\n",
              "1285  Although Denis Meunier is only in his late 20s...  £11.99 per bottle   \n",
              "1286  Waimea’s vineyards are less than 1km from the ...  £13.99 per bottle   \n",
              "1287  Made from the very best fruit nourished by 40-...  £85.00 per bottle   \n",
              "1288  In 1961, Sir Robert Menzies said that Yalumba'...  £37.99 per bottle   \n",
              "1289  Yalumba's Virgilius is often regarded as Austr...  £34.99 per bottle   \n",
              "\n",
              "     Capacity               Grape Secondary Grape Varieties       Closure  \\\n",
              "1285     75CL        Chenin Blanc                       NaN  Natural Cork   \n",
              "1286     75CL          Pinot Noir                       NaN      Screwcap   \n",
              "1287     75CL  Cabernet Sauvignon                       NaN      Screwcap   \n",
              "1288     75CL  Cabernet Sauvignon                       NaN  Natural Cork   \n",
              "1289     75CL            Viognier                       NaN      Screwcap   \n",
              "\n",
              "          Country  Unit                                    Characteristics  \\\n",
              "1285       France   9.4                   Quince, Green Apple, Lemon, Pear   \n",
              "1286  New Zealand   9.8          Floral, Raspberry, Red Cherry, Strawberry   \n",
              "1287    Australia  10.1  Vanilla, Blackberry, Blackcurrant, Cedar, Euca...   \n",
              "1288    Australia  10.9                  Black Plum, Blackcurrant, Vanilla   \n",
              "1289    Australia  10.1                Peach, Apricot, Floral, Honeysuckle   \n",
              "\n",
              "     Per bottle / case / each   Type         ABV           Region  \\\n",
              "1285               per bottle  White  ABV 12.50%            Loire   \n",
              "1286               per bottle   Rosé  ABV 13.00%           Nelson   \n",
              "1287               per bottle    Red  ABV 13.50%  South Australia   \n",
              "1288               per bottle    Red  ABV 14.50%  South Australia   \n",
              "1289               per bottle  White  ABV 13.50%              NaN   \n",
              "\n",
              "                      Style Vintage   Appellation  \n",
              "1285      Aromatic & Floral    2021       Vouvray  \n",
              "1286         Delicate & Dry    2021           NaN  \n",
              "1287  Savoury & Full Bodied    2010  Clare Valley  \n",
              "1288  Savoury & Full Bodied    2016    Coonawarra  \n",
              "1289      Aromatic & Floral    2017   Eden Valley  "
            ],
            "text/html": [
              "\n",
              "  <div id=\"df-f5166f3f-37b0-4cca-a331-4de370c8a945\" class=\"colab-df-container\">\n",
              "    <div>\n",
              "<style scoped>\n",
              "    .dataframe tbody tr th:only-of-type {\n",
              "        vertical-align: middle;\n",
              "    }\n",
              "\n",
              "    .dataframe tbody tr th {\n",
              "        vertical-align: top;\n",
              "    }\n",
              "\n",
              "    .dataframe thead th {\n",
              "        text-align: right;\n",
              "    }\n",
              "</style>\n",
              "<table border=\"1\" class=\"dataframe\">\n",
              "  <thead>\n",
              "    <tr style=\"text-align: right;\">\n",
              "      <th></th>\n",
              "      <th>Title</th>\n",
              "      <th>Description</th>\n",
              "      <th>Price</th>\n",
              "      <th>Capacity</th>\n",
              "      <th>Grape</th>\n",
              "      <th>Secondary Grape Varieties</th>\n",
              "      <th>Closure</th>\n",
              "      <th>Country</th>\n",
              "      <th>Unit</th>\n",
              "      <th>Characteristics</th>\n",
              "      <th>Per bottle / case / each</th>\n",
              "      <th>Type</th>\n",
              "      <th>ABV</th>\n",
              "      <th>Region</th>\n",
              "      <th>Style</th>\n",
              "      <th>Vintage</th>\n",
              "      <th>Appellation</th>\n",
              "    </tr>\n",
              "  </thead>\n",
              "  <tbody>\n",
              "    <tr>\n",
              "      <th>1285</th>\n",
              "      <td>Vouvray Sec 'Expresion de Silex' 2020/21, Loire</td>\n",
              "      <td>Although Denis Meunier is only in his late 20s...</td>\n",
              "      <td>£11.99 per bottle</td>\n",
              "      <td>75CL</td>\n",
              "      <td>Chenin Blanc</td>\n",
              "      <td>NaN</td>\n",
              "      <td>Natural Cork</td>\n",
              "      <td>France</td>\n",
              "      <td>9.4</td>\n",
              "      <td>Quince, Green Apple, Lemon, Pear</td>\n",
              "      <td>per bottle</td>\n",
              "      <td>White</td>\n",
              "      <td>ABV 12.50%</td>\n",
              "      <td>Loire</td>\n",
              "      <td>Aromatic &amp; Floral</td>\n",
              "      <td>2021</td>\n",
              "      <td>Vouvray</td>\n",
              "    </tr>\n",
              "    <tr>\n",
              "      <th>1286</th>\n",
              "      <td>Waimea Estates Pinot Noir Rosé 2021, Nelson</td>\n",
              "      <td>Waimea’s vineyards are less than 1km from the ...</td>\n",
              "      <td>£13.99 per bottle</td>\n",
              "      <td>75CL</td>\n",
              "      <td>Pinot Noir</td>\n",
              "      <td>NaN</td>\n",
              "      <td>Screwcap</td>\n",
              "      <td>New Zealand</td>\n",
              "      <td>9.8</td>\n",
              "      <td>Floral, Raspberry, Red Cherry, Strawberry</td>\n",
              "      <td>per bottle</td>\n",
              "      <td>Rosé</td>\n",
              "      <td>ABV 13.00%</td>\n",
              "      <td>Nelson</td>\n",
              "      <td>Delicate &amp; Dry</td>\n",
              "      <td>2021</td>\n",
              "      <td>NaN</td>\n",
              "    </tr>\n",
              "    <tr>\n",
              "      <th>1287</th>\n",
              "      <td>Wakefield 'Visionary' Cabernet Sauvignon 2010</td>\n",
              "      <td>Made from the very best fruit nourished by 40-...</td>\n",
              "      <td>£85.00 per bottle</td>\n",
              "      <td>75CL</td>\n",
              "      <td>Cabernet Sauvignon</td>\n",
              "      <td>NaN</td>\n",
              "      <td>Screwcap</td>\n",
              "      <td>Australia</td>\n",
              "      <td>10.1</td>\n",
              "      <td>Vanilla, Blackberry, Blackcurrant, Cedar, Euca...</td>\n",
              "      <td>per bottle</td>\n",
              "      <td>Red</td>\n",
              "      <td>ABV 13.50%</td>\n",
              "      <td>South Australia</td>\n",
              "      <td>Savoury &amp; Full Bodied</td>\n",
              "      <td>2010</td>\n",
              "      <td>Clare Valley</td>\n",
              "    </tr>\n",
              "    <tr>\n",
              "      <th>1288</th>\n",
              "      <td>Yalumba 'The Menzies' Cabernet Sauvignon 2015/...</td>\n",
              "      <td>In 1961, Sir Robert Menzies said that Yalumba'...</td>\n",
              "      <td>£37.99 per bottle</td>\n",
              "      <td>75CL</td>\n",
              "      <td>Cabernet Sauvignon</td>\n",
              "      <td>NaN</td>\n",
              "      <td>Natural Cork</td>\n",
              "      <td>Australia</td>\n",
              "      <td>10.9</td>\n",
              "      <td>Black Plum, Blackcurrant, Vanilla</td>\n",
              "      <td>per bottle</td>\n",
              "      <td>Red</td>\n",
              "      <td>ABV 14.50%</td>\n",
              "      <td>South Australia</td>\n",
              "      <td>Savoury &amp; Full Bodied</td>\n",
              "      <td>2016</td>\n",
              "      <td>Coonawarra</td>\n",
              "    </tr>\n",
              "    <tr>\n",
              "      <th>1289</th>\n",
              "      <td>Yalumba 'Virgilius' Viognier 2017, Eden Valley</td>\n",
              "      <td>Yalumba's Virgilius is often regarded as Austr...</td>\n",
              "      <td>£34.99 per bottle</td>\n",
              "      <td>75CL</td>\n",
              "      <td>Viognier</td>\n",
              "      <td>NaN</td>\n",
              "      <td>Screwcap</td>\n",
              "      <td>Australia</td>\n",
              "      <td>10.1</td>\n",
              "      <td>Peach, Apricot, Floral, Honeysuckle</td>\n",
              "      <td>per bottle</td>\n",
              "      <td>White</td>\n",
              "      <td>ABV 13.50%</td>\n",
              "      <td>NaN</td>\n",
              "      <td>Aromatic &amp; Floral</td>\n",
              "      <td>2017</td>\n",
              "      <td>Eden Valley</td>\n",
              "    </tr>\n",
              "  </tbody>\n",
              "</table>\n",
              "</div>\n",
              "    <div class=\"colab-df-buttons\">\n",
              "\n",
              "  <div class=\"colab-df-container\">\n",
              "    <button class=\"colab-df-convert\" onclick=\"convertToInteractive('df-f5166f3f-37b0-4cca-a331-4de370c8a945')\"\n",
              "            title=\"Convert this dataframe to an interactive table.\"\n",
              "            style=\"display:none;\">\n",
              "\n",
              "  <svg xmlns=\"http://www.w3.org/2000/svg\" height=\"24px\" viewBox=\"0 -960 960 960\">\n",
              "    <path d=\"M120-120v-720h720v720H120Zm60-500h600v-160H180v160Zm220 220h160v-160H400v160Zm0 220h160v-160H400v160ZM180-400h160v-160H180v160Zm440 0h160v-160H620v160ZM180-180h160v-160H180v160Zm440 0h160v-160H620v160Z\"/>\n",
              "  </svg>\n",
              "    </button>\n",
              "\n",
              "  <style>\n",
              "    .colab-df-container {\n",
              "      display:flex;\n",
              "      gap: 12px;\n",
              "    }\n",
              "\n",
              "    .colab-df-convert {\n",
              "      background-color: #E8F0FE;\n",
              "      border: none;\n",
              "      border-radius: 50%;\n",
              "      cursor: pointer;\n",
              "      display: none;\n",
              "      fill: #1967D2;\n",
              "      height: 32px;\n",
              "      padding: 0 0 0 0;\n",
              "      width: 32px;\n",
              "    }\n",
              "\n",
              "    .colab-df-convert:hover {\n",
              "      background-color: #E2EBFA;\n",
              "      box-shadow: 0px 1px 2px rgba(60, 64, 67, 0.3), 0px 1px 3px 1px rgba(60, 64, 67, 0.15);\n",
              "      fill: #174EA6;\n",
              "    }\n",
              "\n",
              "    .colab-df-buttons div {\n",
              "      margin-bottom: 4px;\n",
              "    }\n",
              "\n",
              "    [theme=dark] .colab-df-convert {\n",
              "      background-color: #3B4455;\n",
              "      fill: #D2E3FC;\n",
              "    }\n",
              "\n",
              "    [theme=dark] .colab-df-convert:hover {\n",
              "      background-color: #434B5C;\n",
              "      box-shadow: 0px 1px 3px 1px rgba(0, 0, 0, 0.15);\n",
              "      filter: drop-shadow(0px 1px 2px rgba(0, 0, 0, 0.3));\n",
              "      fill: #FFFFFF;\n",
              "    }\n",
              "  </style>\n",
              "\n",
              "    <script>\n",
              "      const buttonEl =\n",
              "        document.querySelector('#df-f5166f3f-37b0-4cca-a331-4de370c8a945 button.colab-df-convert');\n",
              "      buttonEl.style.display =\n",
              "        google.colab.kernel.accessAllowed ? 'block' : 'none';\n",
              "\n",
              "      async function convertToInteractive(key) {\n",
              "        const element = document.querySelector('#df-f5166f3f-37b0-4cca-a331-4de370c8a945');\n",
              "        const dataTable =\n",
              "          await google.colab.kernel.invokeFunction('convertToInteractive',\n",
              "                                                    [key], {});\n",
              "        if (!dataTable) return;\n",
              "\n",
              "        const docLinkHtml = 'Like what you see? Visit the ' +\n",
              "          '<a target=\"_blank\" href=https://colab.research.google.com/notebooks/data_table.ipynb>data table notebook</a>'\n",
              "          + ' to learn more about interactive tables.';\n",
              "        element.innerHTML = '';\n",
              "        dataTable['output_type'] = 'display_data';\n",
              "        await google.colab.output.renderOutput(dataTable, element);\n",
              "        const docLink = document.createElement('div');\n",
              "        docLink.innerHTML = docLinkHtml;\n",
              "        element.appendChild(docLink);\n",
              "      }\n",
              "    </script>\n",
              "  </div>\n",
              "\n",
              "\n",
              "<div id=\"df-8b136161-fb9d-4274-8b60-abf953cfb3bd\">\n",
              "  <button class=\"colab-df-quickchart\" onclick=\"quickchart('df-8b136161-fb9d-4274-8b60-abf953cfb3bd')\"\n",
              "            title=\"Suggest charts\"\n",
              "            style=\"display:none;\">\n",
              "\n",
              "<svg xmlns=\"http://www.w3.org/2000/svg\" height=\"24px\"viewBox=\"0 0 24 24\"\n",
              "     width=\"24px\">\n",
              "    <g>\n",
              "        <path d=\"M19 3H5c-1.1 0-2 .9-2 2v14c0 1.1.9 2 2 2h14c1.1 0 2-.9 2-2V5c0-1.1-.9-2-2-2zM9 17H7v-7h2v7zm4 0h-2V7h2v10zm4 0h-2v-4h2v4z\"/>\n",
              "    </g>\n",
              "</svg>\n",
              "  </button>\n",
              "\n",
              "<style>\n",
              "  .colab-df-quickchart {\n",
              "      --bg-color: #E8F0FE;\n",
              "      --fill-color: #1967D2;\n",
              "      --hover-bg-color: #E2EBFA;\n",
              "      --hover-fill-color: #174EA6;\n",
              "      --disabled-fill-color: #AAA;\n",
              "      --disabled-bg-color: #DDD;\n",
              "  }\n",
              "\n",
              "  [theme=dark] .colab-df-quickchart {\n",
              "      --bg-color: #3B4455;\n",
              "      --fill-color: #D2E3FC;\n",
              "      --hover-bg-color: #434B5C;\n",
              "      --hover-fill-color: #FFFFFF;\n",
              "      --disabled-bg-color: #3B4455;\n",
              "      --disabled-fill-color: #666;\n",
              "  }\n",
              "\n",
              "  .colab-df-quickchart {\n",
              "    background-color: var(--bg-color);\n",
              "    border: none;\n",
              "    border-radius: 50%;\n",
              "    cursor: pointer;\n",
              "    display: none;\n",
              "    fill: var(--fill-color);\n",
              "    height: 32px;\n",
              "    padding: 0;\n",
              "    width: 32px;\n",
              "  }\n",
              "\n",
              "  .colab-df-quickchart:hover {\n",
              "    background-color: var(--hover-bg-color);\n",
              "    box-shadow: 0 1px 2px rgba(60, 64, 67, 0.3), 0 1px 3px 1px rgba(60, 64, 67, 0.15);\n",
              "    fill: var(--button-hover-fill-color);\n",
              "  }\n",
              "\n",
              "  .colab-df-quickchart-complete:disabled,\n",
              "  .colab-df-quickchart-complete:disabled:hover {\n",
              "    background-color: var(--disabled-bg-color);\n",
              "    fill: var(--disabled-fill-color);\n",
              "    box-shadow: none;\n",
              "  }\n",
              "\n",
              "  .colab-df-spinner {\n",
              "    border: 2px solid var(--fill-color);\n",
              "    border-color: transparent;\n",
              "    border-bottom-color: var(--fill-color);\n",
              "    animation:\n",
              "      spin 1s steps(1) infinite;\n",
              "  }\n",
              "\n",
              "  @keyframes spin {\n",
              "    0% {\n",
              "      border-color: transparent;\n",
              "      border-bottom-color: var(--fill-color);\n",
              "      border-left-color: var(--fill-color);\n",
              "    }\n",
              "    20% {\n",
              "      border-color: transparent;\n",
              "      border-left-color: var(--fill-color);\n",
              "      border-top-color: var(--fill-color);\n",
              "    }\n",
              "    30% {\n",
              "      border-color: transparent;\n",
              "      border-left-color: var(--fill-color);\n",
              "      border-top-color: var(--fill-color);\n",
              "      border-right-color: var(--fill-color);\n",
              "    }\n",
              "    40% {\n",
              "      border-color: transparent;\n",
              "      border-right-color: var(--fill-color);\n",
              "      border-top-color: var(--fill-color);\n",
              "    }\n",
              "    60% {\n",
              "      border-color: transparent;\n",
              "      border-right-color: var(--fill-color);\n",
              "    }\n",
              "    80% {\n",
              "      border-color: transparent;\n",
              "      border-right-color: var(--fill-color);\n",
              "      border-bottom-color: var(--fill-color);\n",
              "    }\n",
              "    90% {\n",
              "      border-color: transparent;\n",
              "      border-bottom-color: var(--fill-color);\n",
              "    }\n",
              "  }\n",
              "</style>\n",
              "\n",
              "  <script>\n",
              "    async function quickchart(key) {\n",
              "      const quickchartButtonEl =\n",
              "        document.querySelector('#' + key + ' button');\n",
              "      quickchartButtonEl.disabled = true;  // To prevent multiple clicks.\n",
              "      quickchartButtonEl.classList.add('colab-df-spinner');\n",
              "      try {\n",
              "        const charts = await google.colab.kernel.invokeFunction(\n",
              "            'suggestCharts', [key], {});\n",
              "      } catch (error) {\n",
              "        console.error('Error during call to suggestCharts:', error);\n",
              "      }\n",
              "      quickchartButtonEl.classList.remove('colab-df-spinner');\n",
              "      quickchartButtonEl.classList.add('colab-df-quickchart-complete');\n",
              "    }\n",
              "    (() => {\n",
              "      let quickchartButtonEl =\n",
              "        document.querySelector('#df-8b136161-fb9d-4274-8b60-abf953cfb3bd button');\n",
              "      quickchartButtonEl.style.display =\n",
              "        google.colab.kernel.accessAllowed ? 'block' : 'none';\n",
              "    })();\n",
              "  </script>\n",
              "</div>\n",
              "\n",
              "    </div>\n",
              "  </div>\n"
            ],
            "application/vnd.google.colaboratory.intrinsic+json": {
              "type": "dataframe",
              "repr_error": "0"
            }
          },
          "metadata": {},
          "execution_count": 7
        }
      ]
    },
    {
      "cell_type": "code",
      "source": [
        "ds.shape"
      ],
      "metadata": {
        "colab": {
          "base_uri": "https://localhost:8080/"
        },
        "id": "gx55hl5eYj2X",
        "outputId": "57efa99e-f1a7-4f9a-cac3-86ceed5eb376"
      },
      "execution_count": null,
      "outputs": [
        {
          "output_type": "execute_result",
          "data": {
            "text/plain": [
              "(1290, 17)"
            ]
          },
          "metadata": {},
          "execution_count": 8
        }
      ]
    },
    {
      "cell_type": "code",
      "source": [
        "ds.columns"
      ],
      "metadata": {
        "id": "gkFwUrIyYnib",
        "colab": {
          "base_uri": "https://localhost:8080/"
        },
        "outputId": "f334f89c-b793-4e3b-c293-845e12fa992b"
      },
      "execution_count": 10,
      "outputs": [
        {
          "output_type": "execute_result",
          "data": {
            "text/plain": [
              "Index(['Title', 'Description', 'Price', 'Capacity', 'Grape',\n",
              "       'Secondary Grape Varieties', 'Closure', 'Country', 'Unit',\n",
              "       'Characteristics', 'Per bottle / case / each', 'Type', 'ABV', 'Region',\n",
              "       'Style', 'Vintage', 'Appellation'],\n",
              "      dtype='object')"
            ]
          },
          "metadata": {},
          "execution_count": 10
        }
      ]
    },
    {
      "cell_type": "code",
      "source": [
        "# data visualization\n",
        "sns.histplot(ds['Grape'])"
      ],
      "metadata": {
        "id": "mN0Bh1TxYsSb",
        "colab": {
          "base_uri": "https://localhost:8080/",
          "height": 467
        },
        "outputId": "81d62591-5a75-424e-eee0-046eca506132"
      },
      "execution_count": 21,
      "outputs": [
        {
          "output_type": "execute_result",
          "data": {
            "text/plain": [
              "<Axes: xlabel='Grape', ylabel='Count'>"
            ]
          },
          "metadata": {},
          "execution_count": 21
        },
        {
          "output_type": "display_data",
          "data": {
            "text/plain": [
              "<Figure size 640x480 with 1 Axes>"
            ],
            "image/png": "[encoded data removed]"
          },
          "metadata": {}
        }
      ]
    },
    {
      "cell_type": "code",
      "source": [
        "sns.barplot(x='Grape',y='Unit',\tdata=ds)"
      ],
      "metadata": {
        "id": "YySJRbi0bO6M",
        "outputId": "28f19a03-778b-4d7a-c82d-c3cd3a2856a5",
        "colab": {
          "base_uri": "https://localhost:8080/",
          "height": 467
        }
      },
      "execution_count": 23,
      "outputs": [
        {
          "output_type": "execute_result",
          "data": {
            "text/plain": [
              "<Axes: xlabel='Grape', ylabel='Unit'>"
            ]
          },
          "metadata": {},
          "execution_count": 23
        },
        {
          "output_type": "display_data",
          "data": {
            "text/plain": [
              "<Figure size 640x480 with 1 Axes>"
            ],
            "image/png": "[encoded data removed]"
          },
          "metadata": {}
        }
      ]
    },
    {
      "cell_type": "code",
      "source": [
        "#data preprocessing\n",
        "ds.info()"
      ],
      "metadata": {
        "id": "SWqkQjDmbmW8",
        "outputId": "945e4fa0-9436-44a2-cbe7-f6c82a8e359e",
        "colab": {
          "base_uri": "https://localhost:8080/"
        }
      },
      "execution_count": 51,
      "outputs": [
        {
          "output_type": "stream",
          "name": "stdout",
          "text": [
            "<class 'pandas.core.frame.DataFrame'>\n",
            "RangeIndex: 1290 entries, 0 to 1289\n",
            "Data columns (total 17 columns):\n",
            " #   Column                     Non-Null Count  Dtype\n",
            "---  ------                     --------------  -----\n",
            " 0   Title                      1290 non-null   int64\n",
            " 1   Description                1290 non-null   int64\n",
            " 2   Price                      1290 non-null   int64\n",
            " 3   Capacity                   1290 non-null   int64\n",
            " 4   Grape                      1290 non-null   int64\n",
            " 5   Secondary Grape Varieties  1290 non-null   int64\n",
            " 6   Closure                    1290 non-null   int64\n",
            " 7   Country                    1290 non-null   int64\n",
            " 8   Unit                       1290 non-null   int64\n",
            " 9   Characteristics            1290 non-null   int64\n",
            " 10  Per bottle / case / each   1290 non-null   int64\n",
            " 11  Type                       1290 non-null   int64\n",
            " 12  ABV                        1290 non-null   int64\n",
            " 13  Region                     1290 non-null   int64\n",
            " 14  Style                      1290 non-null   int64\n",
            " 15  Vintage                    1290 non-null   int64\n",
            " 16  Appellation                1290 non-null   int64\n",
            "dtypes: int64(17)\n",
            "memory usage: 171.5 KB\n"
          ]
        }
      ]
    },
    {
      "cell_type": "code",
      "source": [
        "# Convert all columns to numeric, coercing errors to NaN\n",
        "#for col in ds.columns:\n",
        "    #ds[col] = pd.to_numeric(ds[col], errors='coerce')\n"
      ],
      "metadata": {
        "id": "h3t52BJkc6t1"
      },
      "execution_count": 26,
      "outputs": []
    },
    {
      "cell_type": "code",
      "source": [
        "ds.info(0)"
      ],
      "metadata": {
        "id": "noIIBZTrc87I",
        "outputId": "73c79fa1-08bc-4ff3-c374-84651e644750",
        "colab": {
          "base_uri": "https://localhost:8080/"
        }
      },
      "execution_count": 27,
      "outputs": [
        {
          "output_type": "stream",
          "name": "stdout",
          "text": [
            "<class 'pandas.core.frame.DataFrame'>\n",
            "RangeIndex: 1290 entries, 0 to 1289\n",
            "Data columns (total 17 columns):\n",
            " #   Column                     Non-Null Count  Dtype  \n",
            "---  ------                     --------------  -----  \n",
            " 0   Title                      0 non-null      float64\n",
            " 1   Description                0 non-null      float64\n",
            " 2   Price                      0 non-null      float64\n",
            " 3   Capacity                   0 non-null      float64\n",
            " 4   Grape                      0 non-null      float64\n",
            " 5   Secondary Grape Varieties  0 non-null      float64\n",
            " 6   Closure                    0 non-null      float64\n",
            " 7   Country                    0 non-null      float64\n",
            " 8   Unit                       1281 non-null   float64\n",
            " 9   Characteristics            0 non-null      float64\n",
            " 10  Per bottle / case / each   0 non-null      float64\n",
            " 11  Type                       0 non-null      float64\n",
            " 12  ABV                        0 non-null      float64\n",
            " 13  Region                     0 non-null      float64\n",
            " 14  Style                      0 non-null      float64\n",
            " 15  Vintage                    1100 non-null   float64\n",
            " 16  Appellation                0 non-null      float64\n",
            "dtypes: float64(17)\n",
            "memory usage: 171.5 KB\n"
          ]
        }
      ]
    },
    {
      "cell_type": "code",
      "source": [
        "for col in ds.columns:\n",
        "    if ds[col].dtype == 'float64':\n",
        "        ds[col] = ds[col].fillna(0).astype(int)  # Fill NaN with 0 before converting"
      ],
      "metadata": {
        "id": "OUKCe4Cv9lyN"
      },
      "execution_count": 49,
      "outputs": []
    },
    {
      "cell_type": "code",
      "source": [
        "print(ds.dtypes)"
      ],
      "metadata": {
        "id": "ZxXgEVSSCcrn",
        "outputId": "30782d94-505b-4106-c569-b4dd8cdc6ef2",
        "colab": {
          "base_uri": "https://localhost:8080/"
        }
      },
      "execution_count": 54,
      "outputs": [
        {
          "output_type": "stream",
          "name": "stdout",
          "text": [
            "Title                        int64\n",
            "Description                  int64\n",
            "Price                        int64\n",
            "Capacity                     int64\n",
            "Grape                        int64\n",
            "Secondary Grape Varieties    int64\n",
            "Closure                      int64\n",
            "Country                      int64\n",
            "Unit                         int64\n",
            "Characteristics              int64\n",
            "Per bottle / case / each     int64\n",
            "Type                         int64\n",
            "ABV                          int64\n",
            "Region                       int64\n",
            "Style                        int64\n",
            "Vintage                      int64\n",
            "Appellation                  int64\n",
            "dtype: object\n"
          ]
        }
      ]
    },
    {
      "cell_type": "code",
      "source": [
        "from sklearn.svm import SVC\n",
        "from sklearn.model_selection import train_test_split\n",
        "from sklearn.metrics import accuracy_score,confusion_matrix,classification_report\n",
        "from sklearn.svm import SVR\n",
        "from sklearn.metrics import mean_squared_error,r2_score\n"
      ],
      "metadata": {
        "id": "xMagoCAQ9qfM"
      },
      "execution_count": 60,
      "outputs": []
    },
    {
      "cell_type": "code",
      "source": [
        "#Drop the target value\n",
        "x=ds.drop('Grape',axis=1)\n",
        "y=ds['Grape']"
      ],
      "metadata": {
        "id": "hpyDbpkG-VMZ"
      },
      "execution_count": 45,
      "outputs": []
    },
    {
      "cell_type": "code",
      "source": [
        "# train the model\n",
        "x_train,x_test,y_train,y_test=train_test_split(x,y,test_size=0.2,random_state=60)"
      ],
      "metadata": {
        "id": "DEdPjJ1M_JhQ"
      },
      "execution_count": 46,
      "outputs": []
    },
    {
      "cell_type": "code",
      "source": [
        "print(y.unique())  # Check how many unique classes exist\n",
        "print(y.value_counts())  # Check class distribution\n"
      ],
      "metadata": {
        "id": "TJtKrCQNEcZc",
        "outputId": "e0562c3a-5676-45e0-f38a-422958ccc94e",
        "colab": {
          "base_uri": "https://localhost:8080/"
        }
      },
      "execution_count": 57,
      "outputs": [
        {
          "output_type": "stream",
          "name": "stdout",
          "text": [
            "[0]\n",
            "Grape\n",
            "0    1290\n",
            "Name: count, dtype: int64\n"
          ]
        }
      ]
    },
    {
      "cell_type": "code",
      "source": [
        "from sklearn.svm import OneClassSVM\n",
        "\n",
        "model = OneClassSVM(nu=0.1, kernel=\"rbf\", gamma=0.1)\n",
        "model.fit(X_train)  # No need for y_train in anomaly detection\n",
        "\n",
        "y_pred = model.predict(X_test)  # Outputs: -1 (anomaly), 1 (normal)\n"
      ],
      "metadata": {
        "id": "8QESCJoCEfsF"
      },
      "execution_count": 58,
      "outputs": []
    },
    {
      "cell_type": "code",
      "source": [
        "print(f\"Accuracy: {accuracy_score(y_test, y_pred):.2f}\")\n",
        "print(\"\\nConfusion Matrix:\\n\", confusion_matrix(y_test, y_pred))\n",
        "print(\"\\nClassification Report:\\n\", classification_report(y_test, y_pred))"
      ],
      "metadata": {
        "id": "Ec_gYNFnEpkn",
        "outputId": "25d62cda-e451-49f1-dc79-f80f1e55fd7d",
        "colab": {
          "base_uri": "https://localhost:8080/"
        }
      },
      "execution_count": 59,
      "outputs": [
        {
          "output_type": "stream",
          "name": "stdout",
          "text": [
            "Accuracy: 0.00\n",
            "\n",
            "Confusion Matrix:\n",
            " [[  0   0   0]\n",
            " [ 29   0 229]\n",
            " [  0   0   0]]\n",
            "\n",
            "Classification Report:\n",
            "               precision    recall  f1-score   support\n",
            "\n",
            "          -1       0.00      0.00      0.00       0.0\n",
            "           0       0.00      0.00      0.00     258.0\n",
            "           1       0.00      0.00      0.00       0.0\n",
            "\n",
            "    accuracy                           0.00     258.0\n",
            "   macro avg       0.00      0.00      0.00     258.0\n",
            "weighted avg       0.00      0.00      0.00     258.0\n",
            "\n"
          ]
        }
      ]
    },
    {
      "cell_type": "markdown",
      "source": [
        "svm regrssor"
      ],
      "metadata": {
        "id": "b6MlO-2uGOse"
      }
    },
    {
      "cell_type": "code",
      "source": [
        "print(ds.dtypes)"
      ],
      "metadata": {
        "id": "DdJ5OBwpFxlS",
        "outputId": "1b7ec7a1-4b27-4d32-e571-cb43dae8b9ae",
        "colab": {
          "base_uri": "https://localhost:8080/"
        }
      },
      "execution_count": 62,
      "outputs": [
        {
          "output_type": "stream",
          "name": "stdout",
          "text": [
            "Title                        int64\n",
            "Description                  int64\n",
            "Price                        int64\n",
            "Capacity                     int64\n",
            "Grape                        int64\n",
            "Secondary Grape Varieties    int64\n",
            "Closure                      int64\n",
            "Country                      int64\n",
            "Unit                         int64\n",
            "Characteristics              int64\n",
            "Per bottle / case / each     int64\n",
            "Type                         int64\n",
            "ABV                          int64\n",
            "Region                       int64\n",
            "Style                        int64\n",
            "Vintage                      int64\n",
            "Appellation                  int64\n",
            "dtype: object\n"
          ]
        }
      ]
    },
    {
      "cell_type": "code",
      "source": [
        "# Split dataset into features (X) and target (y)\n",
        "X = ds.drop('Grape', axis=1)  # Features\n",
        "y = ds['Grape']  # Target (must be numerical for regression)\n"
      ],
      "metadata": {
        "id": "AsmBwJX7F6O8"
      },
      "execution_count": 63,
      "outputs": []
    },
    {
      "cell_type": "code",
      "source": [
        "x_train,x_test,y_train,y_test=train_test_split(x,y,test_size=0.2,random_state=60)"
      ],
      "metadata": {
        "id": "A85Wkx2KF7NG"
      },
      "execution_count": 64,
      "outputs": []
    },
    {
      "cell_type": "code",
      "source": [
        "# Train the SVR model\n",
        "model = SVR(kernel='rbf', C=1.0, gamma='scale')\n",
        "model.fit(X_train, y_train)\n",
        "\n",
        "# Make predictions\n",
        "y_pred = model.predict(X_test)\n",
        "\n",
        "# Print evaluation metrics\n",
        "print(f\"Mean Squared Error: {mean_squared_error(y_test, y_pred):.2f}\")\n",
        "print(f\"R² Score: {r2_score(y_test, y_pred):.2f}\")"
      ],
      "metadata": {
        "id": "8Ga2ogcHGFMa",
        "outputId": "a3b21b61-c86a-4fae-bb3a-8f25e9621791",
        "colab": {
          "base_uri": "https://localhost:8080/"
        }
      },
      "execution_count": 65,
      "outputs": [
        {
          "output_type": "stream",
          "name": "stdout",
          "text": [
            "Mean Squared Error: 0.00\n",
            "R² Score: 1.00\n"
          ]
        }
      ]
    }
  ]
}